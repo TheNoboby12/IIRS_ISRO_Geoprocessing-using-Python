{
 "cells": [
  {
   "cell_type": "markdown",
   "metadata": {},
   "source": [
    "# INTRODUCTION TO NUMPY AND MATPLOTLIB"
   ]
  },
  {
   "cell_type": "code",
   "execution_count": null,
   "metadata": {},
   "outputs": [],
   "source": []
  },
  {
   "cell_type": "markdown",
   "metadata": {},
   "source": [
    "NUMPY \n",
    "* Fundamental package for scientific computing with python\n",
    "* homogenous multi dimensional array\n",
    "* numpy dimension are called axes\n",
    "* numpy's array class is ndarray also known by alias array"
   ]
  },
  {
   "cell_type": "code",
   "execution_count": 1,
   "metadata": {},
   "outputs": [
    {
     "data": {
      "text/plain": [
       "array([0, 1, 2, 3, 4, 5])"
      ]
     },
     "execution_count": 1,
     "metadata": {},
     "output_type": "execute_result"
    }
   ],
   "source": [
    "import numpy as np\n",
    "\n",
    "a = np.arange(6)\n",
    "a"
   ]
  },
  {
   "cell_type": "markdown",
   "metadata": {},
   "source": [
    "# what is the difference between numpy and python list\n",
    "1. Numpy gives us an erormus range of fast and efficient ways of creating arrays and manipulating numerical dat inside them.\n",
    "2. Python list can contain different data types within the list. all of the elements in numpy array should be of same data type.\n",
    "3. Numpy arrays are d=fsater and more compact than python lists.\n",
    "4.  an array consumes less memory than a list. and convenient to use."
   ]
  },
  {
   "cell_type": "markdown",
   "metadata": {},
   "source": [
    "# What is an array ?\n",
    "An array is a homogenous multidimensional array. an array is a central data structure of numpy library. An array is a grid of values. An array can be indexed by a tuple of non negative , by booleans,by another array or by integers. The rank of the array is the number of dimensions. the shape of array is a tuple giving size of array in each dimension.\n"
   ]
  },
  {
   "cell_type": "code",
   "execution_count": 2,
   "metadata": {},
   "outputs": [
    {
     "data": {
      "text/plain": [
       "array([1, 2, 3, 4, 5, 6])"
      ]
     },
     "execution_count": 2,
     "metadata": {},
     "output_type": "execute_result"
    }
   ],
   "source": [
    "a = np.array([1, 2, 3, 4, 5, 6])\n",
    "a"
   ]
  },
  {
   "cell_type": "markdown",
   "metadata": {},
   "source": [
    "We can access the element int the array using square brackets. When you are accessing the element in the array, you can use the index of the element."
   ]
  },
  {
   "cell_type": "code",
   "execution_count": 3,
   "metadata": {},
   "outputs": [
    {
     "data": {
      "text/plain": [
       "1"
      ]
     },
     "execution_count": 3,
     "metadata": {},
     "output_type": "execute_result"
    }
   ],
   "source": [
    "a[0]"
   ]
  },
  {
   "cell_type": "code",
   "execution_count": 4,
   "metadata": {},
   "outputs": [
    {
     "data": {
      "text/plain": [
       "array([[ 0,  1,  2,  3,  4],\n",
       "       [ 5,  6,  7,  8,  9],\n",
       "       [10, 11, 12, 13, 14],\n",
       "       [15, 16, 17, 18, 19]])"
      ]
     },
     "execution_count": 4,
     "metadata": {},
     "output_type": "execute_result"
    }
   ],
   "source": [
    "a = np.arange(20).reshape(4, 5) # 4 rows and 5 columns\n",
    "a"
   ]
  },
  {
   "cell_type": "code",
   "execution_count": 5,
   "metadata": {},
   "outputs": [
    {
     "data": {
      "text/plain": [
       "2"
      ]
     },
     "execution_count": 5,
     "metadata": {},
     "output_type": "execute_result"
    }
   ],
   "source": [
    "a.ndim # number of dimensions"
   ]
  },
  {
   "cell_type": "code",
   "execution_count": 6,
   "metadata": {},
   "outputs": [
    {
     "data": {
      "text/plain": [
       "((4, 5), 20)"
      ]
     },
     "execution_count": 6,
     "metadata": {},
     "output_type": "execute_result"
    }
   ],
   "source": [
    "a.shape,a.size # shape of the array"
   ]
  },
  {
   "cell_type": "code",
   "execution_count": 7,
   "metadata": {},
   "outputs": [
    {
     "data": {
      "text/plain": [
       "('int32', 4, 80)"
      ]
     },
     "execution_count": 7,
     "metadata": {},
     "output_type": "execute_result"
    }
   ],
   "source": [
    "a.dtype.name, a.itemsize, a.nbytes # data type"
   ]
  },
  {
   "cell_type": "markdown",
   "metadata": {},
   "source": [
    "# Array Creation"
   ]
  },
  {
   "cell_type": "code",
   "execution_count": 8,
   "metadata": {},
   "outputs": [
    {
     "data": {
      "text/plain": [
       "array([1, 2, 3])"
      ]
     },
     "execution_count": 8,
     "metadata": {},
     "output_type": "execute_result"
    }
   ],
   "source": [
    "np.array([1 ,2,3]) "
   ]
  },
  {
   "cell_type": "code",
   "execution_count": 9,
   "metadata": {},
   "outputs": [
    {
     "data": {
      "text/plain": [
       "array([[1.+0.j, 2.+0.j],\n",
       "       [3.+0.j, 4.+0.j]])"
      ]
     },
     "execution_count": 9,
     "metadata": {},
     "output_type": "execute_result"
    }
   ],
   "source": [
    "np.array( [[1,2],[3,4]],dtype = complex )"
   ]
  },
  {
   "cell_type": "code",
   "execution_count": 10,
   "metadata": {},
   "outputs": [
    {
     "data": {
      "text/plain": [
       "array([[1.+1.j, 3.+7.j],\n",
       "       [3.+0.j, 4.+0.j]])"
      ]
     },
     "execution_count": 10,
     "metadata": {},
     "output_type": "execute_result"
    }
   ],
   "source": [
    "np.array([[complex(1,1),complex(3,7)],[3,4]],dtype=complex)"
   ]
  },
  {
   "cell_type": "code",
   "execution_count": 11,
   "metadata": {},
   "outputs": [
    {
     "data": {
      "text/plain": [
       "array([[0., 0., 0., 0.],\n",
       "       [0., 0., 0., 0.],\n",
       "       [0., 0., 0., 0.]])"
      ]
     },
     "execution_count": 11,
     "metadata": {},
     "output_type": "execute_result"
    }
   ],
   "source": [
    "np.zeros((3,4))"
   ]
  },
  {
   "cell_type": "markdown",
   "metadata": {},
   "source": [
    "# Populate arrays with random numbers\n",
    "Numpy provides various function to populate matrices wiith randomnumber across certain for example  np. random. randint(0,10,(3,3)) generates random integer between 0 and 10."
   ]
  },
  {
   "cell_type": "code",
   "execution_count": 12,
   "metadata": {},
   "outputs": [
    {
     "data": {
      "text/plain": [
       "array([[0, 5, 0, 3],\n",
       "       [1, 1, 0, 0],\n",
       "       [8, 3, 5, 8]])"
      ]
     },
     "execution_count": 12,
     "metadata": {},
     "output_type": "execute_result"
    }
   ],
   "source": [
    "random_integer = np.random.randint(0,10,(3,4))\n",
    "random_integer"
   ]
  },
  {
   "cell_type": "code",
   "execution_count": 13,
   "metadata": {},
   "outputs": [
    {
     "data": {
      "text/plain": [
       "array([[39, 66, 84],\n",
       "       [43, 88, 59],\n",
       "       [84, 48, 45]])"
      ]
     },
     "execution_count": 13,
     "metadata": {},
     "output_type": "execute_result"
    }
   ],
   "source": [
    "np.random.randint(10,101,(3,3))"
   ]
  },
  {
   "cell_type": "markdown",
   "metadata": {},
   "source": [
    "# Adding , removing abd sorting elements in array"
   ]
  },
  {
   "cell_type": "code",
   "execution_count": 14,
   "metadata": {},
   "outputs": [
    {
     "data": {
      "text/plain": [
       "array([ 1,  2,  4,  5,  5,  9, 62])"
      ]
     },
     "execution_count": 14,
     "metadata": {},
     "output_type": "execute_result"
    }
   ],
   "source": [
    "a = np.array([2,5,9,4,5,1,62])\n",
    "np.sort(a)"
   ]
  },
  {
   "cell_type": "code",
   "execution_count": 15,
   "metadata": {},
   "outputs": [
    {
     "data": {
      "text/plain": [
       "array([1, 2, 3, 4, 5, 6, 5, 7, 8])"
      ]
     },
     "execution_count": 15,
     "metadata": {},
     "output_type": "execute_result"
    }
   ],
   "source": [
    "a=np.array([1,2,3,4])\n",
    "b=np.array([5,6,5,7,8])\n",
    "np.concatenate((a,b))"
   ]
  },
  {
   "cell_type": "code",
   "execution_count": 16,
   "metadata": {},
   "outputs": [
    {
     "data": {
      "text/plain": [
       "array([[1, 3],\n",
       "       [6, 3],\n",
       "       [2, 3]])"
      ]
     },
     "execution_count": 16,
     "metadata": {},
     "output_type": "execute_result"
    }
   ],
   "source": [
    "x=np.array([[1,3],[6,3]])\n",
    "y=np.array([[2,3]])\n",
    "np.concatenate((x,y),axis=0)"
   ]
  },
  {
   "cell_type": "markdown",
   "metadata": {},
   "source": [
    "# Shape Manipulation \n",
    "An array has a shape given by number of elements along each axis.."
   ]
  },
  {
   "cell_type": "code",
   "execution_count": 17,
   "metadata": {},
   "outputs": [
    {
     "data": {
      "text/plain": [
       "array([[ 0,  1,  2,  3,  4],\n",
       "       [ 5,  6,  7,  8,  9],\n",
       "       [10, 11, 12, 13, 14],\n",
       "       [15, 16, 17, 18, 19]])"
      ]
     },
     "execution_count": 17,
     "metadata": {},
     "output_type": "execute_result"
    }
   ],
   "source": [
    "a = np.arange(20).reshape(4,5)\n",
    "a"
   ]
  },
  {
   "cell_type": "code",
   "execution_count": 18,
   "metadata": {},
   "outputs": [
    {
     "data": {
      "text/plain": [
       "190"
      ]
     },
     "execution_count": 18,
     "metadata": {},
     "output_type": "execute_result"
    }
   ],
   "source": [
    "a.sum()"
   ]
  },
  {
   "cell_type": "code",
   "execution_count": 19,
   "metadata": {},
   "outputs": [
    {
     "data": {
      "text/plain": [
       "array([10, 35, 60, 85])"
      ]
     },
     "execution_count": 19,
     "metadata": {},
     "output_type": "execute_result"
    }
   ],
   "source": [
    "a.sum(axis=1)# sum of each row"
   ]
  },
  {
   "cell_type": "code",
   "execution_count": 20,
   "metadata": {},
   "outputs": [
    {
     "data": {
      "text/plain": [
       "array([ 0,  1,  2,  3,  4,  5,  6,  7,  8,  9, 10, 11, 12, 13, 14, 15, 16,\n",
       "       17, 18, 19])"
      ]
     },
     "execution_count": 20,
     "metadata": {},
     "output_type": "execute_result"
    }
   ],
   "source": [
    "a.ravel() # flatten the array"
   ]
  },
  {
   "cell_type": "code",
   "execution_count": 21,
   "metadata": {},
   "outputs": [
    {
     "data": {
      "text/plain": [
       "array([[ 0,  1,  2,  3],\n",
       "       [ 4,  5,  6,  7],\n",
       "       [ 8,  9, 10, 11],\n",
       "       [12, 13, 14, 15],\n",
       "       [16, 17, 18, 19]])"
      ]
     },
     "execution_count": 21,
     "metadata": {},
     "output_type": "execute_result"
    }
   ],
   "source": [
    "a.resize(5,4) # reshape the array\n",
    "a"
   ]
  },
  {
   "cell_type": "markdown",
   "metadata": {},
   "source": [
    "# how to add a new aaxis to an array?\n",
    "* Use np.newaxis and np.new.expand_dims to increase the dimension of your existing array.\n",
    "* Using np.axis willl increase the dimension of your array by one dimension when used once. This means that a 1D aarray will become a 2d array, a 2D array will become 3d array and so on."
   ]
  },
  {
   "cell_type": "code",
   "execution_count": 22,
   "metadata": {},
   "outputs": [
    {
     "data": {
      "text/plain": [
       "(6,)"
      ]
     },
     "execution_count": 22,
     "metadata": {},
     "output_type": "execute_result"
    }
   ],
   "source": [
    "a = np.array([1,2,3,4,5,6])\n",
    "a.shape"
   ]
  },
  {
   "cell_type": "code",
   "execution_count": 23,
   "metadata": {},
   "outputs": [
    {
     "data": {
      "text/plain": [
       "array([[1, 2, 3, 4, 5, 6]])"
      ]
     },
     "execution_count": 23,
     "metadata": {},
     "output_type": "execute_result"
    }
   ],
   "source": [
    "a2=a[np.newaxis,:] # add a new axis \n",
    "a2"
   ]
  },
  {
   "cell_type": "code",
   "execution_count": 24,
   "metadata": {},
   "outputs": [
    {
     "data": {
      "text/plain": [
       "(1, 6)"
      ]
     },
     "execution_count": 24,
     "metadata": {},
     "output_type": "execute_result"
    }
   ],
   "source": [
    "a2.shape # (1,6) 1 row and 6 column"
   ]
  },
  {
   "cell_type": "markdown",
   "metadata": {},
   "source": [
    "We can explicit convert a 1D to either a row vector or a column vector using np.newaxis. "
   ]
  },
  {
   "cell_type": "code",
   "execution_count": 25,
   "metadata": {},
   "outputs": [
    {
     "data": {
      "text/plain": [
       "array([[1],\n",
       "       [2],\n",
       "       [3],\n",
       "       [4],\n",
       "       [5],\n",
       "       [6]])"
      ]
     },
     "execution_count": 25,
     "metadata": {},
     "output_type": "execute_result"
    }
   ],
   "source": [
    "col_vector = a[:,np.newaxis] # add a new axis\n",
    "col_vector"
   ]
  },
  {
   "cell_type": "code",
   "execution_count": 26,
   "metadata": {},
   "outputs": [
    {
     "data": {
      "text/plain": [
       "array([[1, 2, 3, 4, 5, 6]])"
      ]
     },
     "execution_count": 26,
     "metadata": {},
     "output_type": "execute_result"
    }
   ],
   "source": [
    "b= np.expand_dims(a,axis=0) # add a new axis\n",
    "b"
   ]
  },
  {
   "cell_type": "markdown",
   "metadata": {},
   "source": [
    "# Basic Operation on Arrays\n"
   ]
  },
  {
   "cell_type": "code",
   "execution_count": 27,
   "metadata": {},
   "outputs": [
    {
     "data": {
      "text/plain": [
       "array([2, 3])"
      ]
     },
     "execution_count": 27,
     "metadata": {},
     "output_type": "execute_result"
    }
   ],
   "source": [
    "data = np.array([1,2])\n",
    "ones = np.ones(2, dtype=int)\n",
    "data+ones"
   ]
  },
  {
   "cell_type": "code",
   "execution_count": 28,
   "metadata": {},
   "outputs": [
    {
     "data": {
      "text/plain": [
       "array([0, 1])"
      ]
     },
     "execution_count": 28,
     "metadata": {},
     "output_type": "execute_result"
    }
   ],
   "source": [
    "data-ones"
   ]
  },
  {
   "cell_type": "code",
   "execution_count": 29,
   "metadata": {},
   "outputs": [
    {
     "data": {
      "text/plain": [
       "array([1, 4])"
      ]
     },
     "execution_count": 29,
     "metadata": {},
     "output_type": "execute_result"
    }
   ],
   "source": [
    "data*data"
   ]
  },
  {
   "cell_type": "markdown",
   "metadata": {},
   "source": [
    "To add the rows or columns in a 2D, you would specify the axis."
   ]
  },
  {
   "cell_type": "code",
   "execution_count": 30,
   "metadata": {},
   "outputs": [
    {
     "data": {
      "text/plain": [
       "array([[1, 2],\n",
       "       [3, 4]])"
      ]
     },
     "execution_count": 30,
     "metadata": {},
     "output_type": "execute_result"
    }
   ],
   "source": [
    "b = np.array([[1,2],[3,4]])\n",
    "b"
   ]
  },
  {
   "cell_type": "code",
   "execution_count": 31,
   "metadata": {},
   "outputs": [
    {
     "data": {
      "text/plain": [
       "array([4, 6])"
      ]
     },
     "execution_count": 31,
     "metadata": {},
     "output_type": "execute_result"
    }
   ],
   "source": [
    "b.sum(axis=0) # sum of each column"
   ]
  },
  {
   "cell_type": "code",
   "execution_count": 32,
   "metadata": {},
   "outputs": [
    {
     "data": {
      "text/plain": [
       "array([3, 7])"
      ]
     },
     "execution_count": 32,
     "metadata": {},
     "output_type": "execute_result"
    }
   ],
   "source": [
    "b.sum(axis=1) # sum of each row"
   ]
  },
  {
   "cell_type": "markdown",
   "metadata": {},
   "source": [
    "# Broadcasting \n",
    "* if you want to add or substract two vectors or,atrices, linear algebra requires that the two operands have same dimensions. Furthermore , if you want to multiply two matrices, they must have same number of rows and columns.\n",
    "* there are times when u might want to carry out an operation on an arrays of different sizes.\n",
    "* For exapmle , your array might contain information about distance in meters but u want it to be in kilo meters.\n",
    "* To do this, you can use broadcasting. "
   ]
  },
  {
   "cell_type": "code",
   "execution_count": 33,
   "metadata": {},
   "outputs": [
    {
     "data": {
      "text/plain": [
       "array([800. , 444.8])"
      ]
     },
     "execution_count": 33,
     "metadata": {},
     "output_type": "execute_result"
    }
   ],
   "source": [
    "data = np.array([500.0,278.0])\n",
    "data * 1.6"
   ]
  },
  {
   "cell_type": "code",
   "execution_count": 34,
   "metadata": {},
   "outputs": [
    {
     "data": {
      "text/plain": [
       "array([[1, 2],\n",
       "       [3, 4],\n",
       "       [5, 6]])"
      ]
     },
     "execution_count": 34,
     "metadata": {},
     "output_type": "execute_result"
    }
   ],
   "source": [
    "data = np.array([[1,2],[3,4],[5,6]])\n",
    "data"
   ]
  },
  {
   "cell_type": "code",
   "execution_count": 35,
   "metadata": {},
   "outputs": [
    {
     "data": {
      "text/plain": [
       "array([[2, 3],\n",
       "       [4, 5],\n",
       "       [6, 7]])"
      ]
     },
     "execution_count": 35,
     "metadata": {},
     "output_type": "execute_result"
    }
   ],
   "source": [
    "ones_row = np.array([[ 1,1]])\n",
    "data + ones_row"
   ]
  },
  {
   "cell_type": "code",
   "execution_count": 36,
   "metadata": {},
   "outputs": [
    {
     "data": {
      "text/plain": [
       "array([[1, 2],\n",
       "       [3, 4]])"
      ]
     },
     "execution_count": 36,
     "metadata": {},
     "output_type": "execute_result"
    }
   ],
   "source": [
    "b"
   ]
  },
  {
   "cell_type": "code",
   "execution_count": 37,
   "metadata": {},
   "outputs": [
    {
     "data": {
      "text/plain": [
       "array([[ 1,  8],\n",
       "       [27, 64]], dtype=int32)"
      ]
     },
     "execution_count": 37,
     "metadata": {},
     "output_type": "execute_result"
    }
   ],
   "source": [
    "b**3"
   ]
  },
  {
   "cell_type": "code",
   "execution_count": 38,
   "metadata": {},
   "outputs": [
    {
     "data": {
      "text/plain": [
       "array([ 10.26574381,  -7.90678989, -18.80985744, -12.4192288 ,\n",
       "         5.38958152,  18.24323545])"
      ]
     },
     "execution_count": 38,
     "metadata": {},
     "output_type": "execute_result"
    }
   ],
   "source": [
    "19*np.cos(a)"
   ]
  },
  {
   "cell_type": "code",
   "execution_count": 39,
   "metadata": {},
   "outputs": [
    {
     "data": {
      "text/plain": [
       "array([ True,  True,  True,  True, False, False])"
      ]
     },
     "execution_count": 39,
     "metadata": {},
     "output_type": "execute_result"
    }
   ],
   "source": [
    "a<5"
   ]
  },
  {
   "cell_type": "code",
   "execution_count": 40,
   "metadata": {},
   "outputs": [
    {
     "data": {
      "text/plain": [
       "array([[17, 28],\n",
       "       [19, 28]])"
      ]
     },
     "execution_count": 40,
     "metadata": {},
     "output_type": "execute_result"
    }
   ],
   "source": [
    "A=np.array([[8,3],[4,5]])\n",
    "B=np.array([[1,2],[3,4]])\n",
    "A.dot(B) # matrix multiplication or we can use -- A@B\n"
   ]
  },
  {
   "cell_type": "code",
   "execution_count": 41,
   "metadata": {},
   "outputs": [
    {
     "data": {
      "text/plain": [
       "array([[40, 15],\n",
       "       [20, 25]])"
      ]
     },
     "execution_count": 41,
     "metadata": {},
     "output_type": "execute_result"
    }
   ],
   "source": [
    "A*=5\n",
    "A"
   ]
  },
  {
   "cell_type": "code",
   "execution_count": 42,
   "metadata": {},
   "outputs": [
    {
     "data": {
      "text/plain": [
       "array([[0.84962136, 0.36537452, 0.7821721 , 0.97438723, 0.67534874],\n",
       "       [0.75809764, 0.08887909, 0.86031795, 0.42286079, 0.05245588],\n",
       "       [0.70072183, 0.99673425, 0.35416839, 0.27098011, 0.6118566 ],\n",
       "       [0.43390028, 0.05913967, 0.66773361, 0.19845678, 0.57550612],\n",
       "       [0.1335674 , 0.71986902, 0.34771312, 0.0251258 , 0.95825188]])"
      ]
     },
     "execution_count": 42,
     "metadata": {},
     "output_type": "execute_result"
    }
   ],
   "source": [
    "A=np.random.rand(5,5)\n",
    "A"
   ]
  },
  {
   "cell_type": "code",
   "execution_count": 43,
   "metadata": {},
   "outputs": [
    {
     "data": {
      "text/plain": [
       "21"
      ]
     },
     "execution_count": 43,
     "metadata": {},
     "output_type": "execute_result"
    }
   ],
   "source": [
    "a.sum()"
   ]
  },
  {
   "cell_type": "code",
   "execution_count": 44,
   "metadata": {},
   "outputs": [
    {
     "data": {
      "text/plain": [
       "6"
      ]
     },
     "execution_count": 44,
     "metadata": {},
     "output_type": "execute_result"
    }
   ],
   "source": [
    "a.max()"
   ]
  },
  {
   "cell_type": "code",
   "execution_count": 45,
   "metadata": {},
   "outputs": [
    {
     "data": {
      "text/plain": [
       "array([[ 0,  1,  2,  3],\n",
       "       [ 4,  5,  6,  7],\n",
       "       [ 8,  9, 10, 11],\n",
       "       [12, 13, 14, 15],\n",
       "       [16, 17, 18, 19]])"
      ]
     },
     "execution_count": 45,
     "metadata": {},
     "output_type": "execute_result"
    }
   ],
   "source": [
    "b = np.arange(20).reshape(5,4)\n",
    "b"
   ]
  },
  {
   "cell_type": "code",
   "execution_count": 46,
   "metadata": {},
   "outputs": [
    {
     "data": {
      "text/plain": [
       "array([[ 0,  1,  2,  3],\n",
       "       [ 4,  6,  8, 10],\n",
       "       [12, 15, 18, 21],\n",
       "       [24, 28, 32, 36],\n",
       "       [40, 45, 50, 55]], dtype=int32)"
      ]
     },
     "execution_count": 46,
     "metadata": {},
     "output_type": "execute_result"
    }
   ],
   "source": [
    "b.cumsum(axis=0) # cumulative sum of each row"
   ]
  },
  {
   "cell_type": "code",
   "execution_count": 47,
   "metadata": {},
   "outputs": [
    {
     "data": {
      "text/plain": [
       "array([-100,    2, -100,    4, -100,    6])"
      ]
     },
     "execution_count": 47,
     "metadata": {},
     "output_type": "execute_result"
    }
   ],
   "source": [
    "a[0:6:2] = -100\n",
    "a"
   ]
  },
  {
   "cell_type": "code",
   "execution_count": 48,
   "metadata": {},
   "outputs": [
    {
     "data": {
      "text/plain": [
       "array([2, 4])"
      ]
     },
     "execution_count": 48,
     "metadata": {},
     "output_type": "execute_result"
    }
   ],
   "source": [
    "data[0:2,1] "
   ]
  },
  {
   "cell_type": "markdown",
   "metadata": {},
   "source": [
    "# if else like statement\n",
    "\" np.where(condition,x,y) \" chooses element from x or y depending on the condition."
   ]
  },
  {
   "cell_type": "code",
   "execution_count": 49,
   "metadata": {},
   "outputs": [
    {
     "data": {
      "text/plain": [
       "array([0, 1, 2, 3, 4, 5, 6, 7, 8, 9])"
      ]
     },
     "execution_count": 49,
     "metadata": {},
     "output_type": "execute_result"
    }
   ],
   "source": [
    "a=np.arange(10)\n",
    "a"
   ]
  },
  {
   "cell_type": "code",
   "execution_count": 50,
   "metadata": {},
   "outputs": [
    {
     "data": {
      "text/plain": [
       "array([ 0,  1,  2,  3,  4, 50, 60, 70, 80, 90])"
      ]
     },
     "execution_count": 50,
     "metadata": {},
     "output_type": "execute_result"
    }
   ],
   "source": [
    "np.where(a<5,a,a*10 )"
   ]
  },
  {
   "cell_type": "code",
   "execution_count": 51,
   "metadata": {},
   "outputs": [
    {
     "data": {
      "text/plain": [
       "array([[ 0,  1,  2],\n",
       "       [ 3, -1, -1],\n",
       "       [-1, -1, -1]])"
      ]
     },
     "execution_count": 51,
     "metadata": {},
     "output_type": "execute_result"
    }
   ],
   "source": [
    "a = np.array([[0,1,2],[3,4,5],[6,7,8]])\n",
    "np.where(a<4,a,-1)"
   ]
  },
  {
   "cell_type": "markdown",
   "metadata": {},
   "source": [
    "# Matplotlib\n",
    "matplotlib is a python library for plotting graphs."
   ]
  },
  {
   "cell_type": "code",
   "execution_count": 52,
   "metadata": {},
   "outputs": [
    {
     "data": {
      "text/plain": [
       "[<matplotlib.lines.Line2D at 0x2341a24a1c0>]"
      ]
     },
     "execution_count": 52,
     "metadata": {},
     "output_type": "execute_result"
    },
    {
     "data": {
      "image/png": "[encoded data removed]",
      "text/plain": [
       "<Figure size 432x288 with 1 Axes>"
      ]
     },
     "metadata": {
      "needs_background": "light"
     },
     "output_type": "display_data"
    }
   ],
   "source": [
    "import matplotlib.pyplot as plt\n",
    "\n",
    "x=np.arange(0,10,0.2)\n",
    "y=np.sin(x)\n",
    "plt.plot(x,y,label='linear')"
   ]
  },
  {
   "cell_type": "code",
   "execution_count": 53,
   "metadata": {},
   "outputs": [
    {
     "data": {
      "image/png": "[encoded data removed]",
      "text/plain": [
       "<Figure size 432x288 with 1 Axes>"
      ]
     },
     "metadata": {
      "needs_background": "light"
     },
     "output_type": "display_data"
    }
   ],
   "source": [
    "y_sin=np.sin(x)\n",
    "y_cos=np.cos(x)\n",
    "plt.plot(x,y_sin,label='sine',linewidth=2)\n",
    "plt.plot(x,y_cos,label='cosine')\n",
    "plt.xlabel('x label')\n",
    "plt.ylabel('y label')\n",
    "plt.title('Sine and Cosine plot')\n",
    "plt.legend()\n",
    "plt.show()\n",
    "plt.close()"
   ]
  },
  {
   "cell_type": "code",
   "execution_count": 54,
   "metadata": {},
   "outputs": [
    {
     "data": {
      "text/plain": [
       "Text(0.5, 1.0, 'cosine plot')"
      ]
     },
     "execution_count": 54,
     "metadata": {},
     "output_type": "execute_result"
    },
    {
     "data": {
      "image/png": "[encoded data removed]",
      "text/plain": [
       "<Figure size 432x288 with 2 Axes>"
      ]
     },
     "metadata": {
      "needs_background": "light"
     },
     "output_type": "display_data"
    }
   ],
   "source": [
    "plt.subplot(1,2,1)\n",
    "plt.plot(x,y_sin,label='sine')\n",
    "plt.title('sine plot')\n",
    "plt.subplot(1,2,2)\n",
    "plt.plot(x,y_cos,label='cosine')\n",
    "plt.title('cosine plot')"
   ]
  },
  {
   "cell_type": "markdown",
   "metadata": {},
   "source": [
    "# Plotting Images"
   ]
  },
  {
   "cell_type": "code",
   "execution_count": 55,
   "metadata": {},
   "outputs": [
    {
     "data": {
      "text/plain": [
       "array([[[0., 0., 0., 1.],\n",
       "        [0., 0., 0., 1.],\n",
       "        [0., 0., 0., 1.],\n",
       "        ...,\n",
       "        [0., 0., 0., 1.],\n",
       "        [0., 0., 0., 1.],\n",
       "        [0., 0., 0., 1.]],\n",
       "\n",
       "       [[0., 0., 0., 1.],\n",
       "        [0., 0., 0., 1.],\n",
       "        [0., 0., 0., 1.],\n",
       "        ...,\n",
       "        [0., 0., 0., 1.],\n",
       "        [0., 0., 0., 1.],\n",
       "        [0., 0., 0., 1.]],\n",
       "\n",
       "       [[0., 0., 0., 1.],\n",
       "        [0., 0., 0., 1.],\n",
       "        [0., 0., 0., 1.],\n",
       "        ...,\n",
       "        [0., 0., 0., 1.],\n",
       "        [0., 0., 0., 1.],\n",
       "        [0., 0., 0., 1.]],\n",
       "\n",
       "       ...,\n",
       "\n",
       "       [[0., 0., 0., 1.],\n",
       "        [0., 0., 0., 1.],\n",
       "        [0., 0., 0., 1.],\n",
       "        ...,\n",
       "        [0., 0., 0., 1.],\n",
       "        [0., 0., 0., 1.],\n",
       "        [0., 0., 0., 1.]],\n",
       "\n",
       "       [[0., 0., 0., 1.],\n",
       "        [0., 0., 0., 1.],\n",
       "        [0., 0., 0., 1.],\n",
       "        ...,\n",
       "        [0., 0., 0., 1.],\n",
       "        [0., 0., 0., 1.],\n",
       "        [0., 0., 0., 1.]],\n",
       "\n",
       "       [[0., 0., 0., 1.],\n",
       "        [0., 0., 0., 1.],\n",
       "        [0., 0., 0., 1.],\n",
       "        ...,\n",
       "        [0., 0., 0., 1.],\n",
       "        [0., 0., 0., 1.],\n",
       "        [0., 0., 0., 1.]]], dtype=float32)"
      ]
     },
     "execution_count": 55,
     "metadata": {},
     "output_type": "execute_result"
    }
   ],
   "source": [
    "import matplotlib.image as mping\n",
    "import matplotlib.pyplot as plt\n",
    "img=mping.imread('MM.png')\n",
    "img"
   ]
  },
  {
   "cell_type": "code",
   "execution_count": 56,
   "metadata": {},
   "outputs": [
    {
     "data": {
      "text/plain": [
       "<matplotlib.image.AxesImage at 0x2341aaf2dc0>"
      ]
     },
     "execution_count": 56,
     "metadata": {},
     "output_type": "execute_result"
    },
    {
     "data": {
      "image/png": "[encoded data removed]",
      "text/plain": [
       "<Figure size 432x288 with 1 Axes>"
      ]
     },
     "metadata": {
      "needs_background": "light"
     },
     "output_type": "display_data"
    }
   ],
   "source": [
    "plt.imshow(img)"
   ]
  },
  {
   "cell_type": "code",
   "execution_count": 57,
   "metadata": {},
   "outputs": [
    {
     "data": {
      "text/plain": [
       "(1080, 1920, 4)"
      ]
     },
     "execution_count": 57,
     "metadata": {},
     "output_type": "execute_result"
    }
   ],
   "source": [
    "img.shape"
   ]
  },
  {
   "cell_type": "code",
   "execution_count": 58,
   "metadata": {},
   "outputs": [
    {
     "data": {
      "text/plain": [
       "(1080, 1920)"
      ]
     },
     "execution_count": 58,
     "metadata": {},
     "output_type": "execute_result"
    }
   ],
   "source": [
    "red_data=img[:,:,0]\n",
    "red_data.shape"
   ]
  },
  {
   "cell_type": "code",
   "execution_count": 59,
   "metadata": {},
   "outputs": [
    {
     "data": {
      "text/plain": [
       "<matplotlib.image.AxesImage at 0x2341ab57e80>"
      ]
     },
     "execution_count": 59,
     "metadata": {},
     "output_type": "execute_result"
    },
    {
     "data": {
      "image/png": "[encoded data removed]",
      "text/plain": [
       "<Figure size 432x288 with 1 Axes>"
      ]
     },
     "metadata": {
      "needs_background": "light"
     },
     "output_type": "display_data"
    }
   ],
   "source": [
    "plt.imshow(red_data)"
   ]
  },
  {
   "cell_type": "code",
   "execution_count": 60,
   "metadata": {},
   "outputs": [
    {
     "data": {
      "text/plain": [
       "<matplotlib.image.AxesImage at 0x2341b3c80d0>"
      ]
     },
     "execution_count": 60,
     "metadata": {},
     "output_type": "execute_result"
    },
    {
     "data": {
      "image/png": "[encoded data removed]",
      "text/plain": [
       "<Figure size 432x288 with 1 Axes>"
      ]
     },
     "metadata": {
      "needs_background": "light"
     },
     "output_type": "display_data"
    }
   ],
   "source": [
    "plt.imshow(red_data,cmap=\"gray\")"
   ]
  },
  {
   "cell_type": "code",
   "execution_count": 61,
   "metadata": {},
   "outputs": [],
   "source": [
    "plt.close()"
   ]
  },
  {
   "cell_type": "code",
   "execution_count": 62,
   "metadata": {},
   "outputs": [
    {
     "data": {
      "text/plain": [
       "<matplotlib.colorbar.Colorbar at 0x2341b450bb0>"
      ]
     },
     "execution_count": 62,
     "metadata": {},
     "output_type": "execute_result"
    },
    {
     "data": {
      "image/png": "[encoded data removed]",
      "text/plain": [
       "<Figure size 432x288 with 2 Axes>"
      ]
     },
     "metadata": {
      "needs_background": "light"
     },
     "output_type": "display_data"
    }
   ],
   "source": [
    "#  Color scale reference   \n",
    "plt.imshow(red_data,cmap=\"terrain\")\n",
    "plt.colorbar()"
   ]
  },
  {
   "cell_type": "code",
   "execution_count": 63,
   "metadata": {},
   "outputs": [
    {
     "data": {
      "text/plain": [
       "(array([5.29920e+05, 0.00000e+00, 0.00000e+00, 0.00000e+00, 0.00000e+00,\n",
       "        0.00000e+00, 0.00000e+00, 2.00000e+00, 2.00000e+00, 1.50000e+01,\n",
       "        8.40000e+01, 8.66000e+02, 3.75600e+03, 8.70544e+05, 2.09336e+05,\n",
       "        8.13870e+04, 4.48920e+04, 3.33990e+04, 2.11070e+04, 1.61330e+04,\n",
       "        1.31970e+04, 1.69710e+04, 1.42260e+04, 1.09430e+04, 1.02710e+04,\n",
       "        8.17700e+03, 6.47400e+03, 5.43500e+03, 4.97800e+03, 4.38400e+03,\n",
       "        4.16100e+03, 3.89800e+03, 3.67300e+03, 3.53200e+03, 3.27200e+03,\n",
       "        3.14600e+03, 3.08000e+03, 2.68300e+03, 2.49900e+03, 2.41700e+03,\n",
       "        2.21100e+03, 2.15200e+03, 1.91500e+03, 1.61800e+03, 1.44300e+03,\n",
       "        1.28600e+03, 1.27200e+03, 1.28600e+03, 1.21400e+03, 1.23400e+03,\n",
       "        1.16200e+03, 1.21800e+03, 1.11600e+03, 1.04500e+03, 1.09000e+03,\n",
       "        1.06900e+03, 1.09700e+03, 1.11200e+03, 1.09000e+03, 1.03800e+03,\n",
       "        1.03000e+03, 1.03800e+03, 1.03900e+03, 1.13600e+03, 1.06600e+03,\n",
       "        1.13800e+03, 1.10600e+03, 1.09000e+03, 1.09300e+03, 1.17200e+03,\n",
       "        1.14100e+03, 1.17500e+03, 1.12200e+03, 1.20900e+03, 1.12100e+03,\n",
       "        1.18000e+03, 1.15800e+03, 1.20700e+03, 1.15000e+03, 1.19200e+03,\n",
       "        1.08400e+03, 1.13400e+03, 1.12700e+03, 1.05700e+03, 1.07400e+03,\n",
       "        1.11600e+03, 1.13300e+03, 1.12200e+03, 1.17000e+03, 1.13800e+03,\n",
       "        1.11100e+03, 1.12300e+03, 1.13300e+03, 1.16400e+03, 1.18900e+03,\n",
       "        1.19200e+03, 1.10800e+03, 1.17200e+03, 1.14100e+03, 1.21000e+03,\n",
       "        1.15700e+03, 1.14900e+03, 1.13000e+03, 1.20900e+03, 1.05500e+03,\n",
       "        1.08200e+03, 1.09000e+03, 1.15000e+03, 1.11900e+03, 1.12100e+03,\n",
       "        1.11900e+03, 1.08700e+03, 1.11400e+03, 1.06200e+03, 1.02300e+03,\n",
       "        9.68000e+02, 1.04800e+03, 9.95000e+02, 1.03700e+03, 9.55000e+02,\n",
       "        9.13000e+02, 8.72000e+02, 8.61000e+02, 8.55000e+02, 7.73000e+02,\n",
       "        7.83000e+02, 7.68000e+02, 7.45000e+02, 6.73000e+02, 6.79000e+02,\n",
       "        7.13000e+02, 6.62000e+02, 6.49000e+02, 6.56000e+02, 6.26000e+02,\n",
       "        5.58000e+02, 5.30000e+02, 5.14000e+02, 5.38000e+02, 5.42000e+02,\n",
       "        4.91000e+02, 5.18000e+02, 5.05000e+02, 4.93000e+02, 4.88000e+02,\n",
       "        5.14000e+02, 5.23000e+02, 5.01000e+02, 4.67000e+02, 4.80000e+02,\n",
       "        4.41000e+02, 4.70000e+02, 4.65000e+02, 4.87000e+02, 4.53000e+02,\n",
       "        4.31000e+02, 4.46000e+02, 4.17000e+02, 4.45000e+02, 4.24000e+02,\n",
       "        4.67000e+02, 4.34000e+02, 4.52000e+02, 4.08000e+02, 4.17000e+02,\n",
       "        4.05000e+02, 4.03000e+02, 4.03000e+02, 3.86000e+02, 4.34000e+02,\n",
       "        4.07000e+02, 3.82000e+02, 4.17000e+02, 3.80000e+02, 3.76000e+02,\n",
       "        3.72000e+02, 3.74000e+02, 3.73000e+02, 3.93000e+02, 3.80000e+02,\n",
       "        3.86000e+02, 3.71000e+02, 3.73000e+02, 3.61000e+02, 3.44000e+02,\n",
       "        3.24000e+02, 3.72000e+02, 3.20000e+02, 3.67000e+02, 3.51000e+02,\n",
       "        3.59000e+02, 3.09000e+02, 3.40000e+02, 2.91000e+02, 3.14000e+02,\n",
       "        3.11000e+02, 3.12000e+02, 2.86000e+02, 2.95000e+02, 2.92000e+02,\n",
       "        2.63000e+02, 2.73000e+02, 2.35000e+02, 2.04000e+02, 2.09000e+02,\n",
       "        1.69000e+02, 1.60000e+02, 1.43000e+02, 1.56000e+02, 9.90000e+01,\n",
       "        9.50000e+01, 9.10000e+01, 8.80000e+01, 8.00000e+01, 7.10000e+01,\n",
       "        7.00000e+01, 5.10000e+01, 4.50000e+01, 4.80000e+01, 2.70000e+01,\n",
       "        3.10000e+01, 2.00000e+01, 2.60000e+01, 9.00000e+00, 2.70000e+01,\n",
       "        1.80000e+01, 2.30000e+01, 2.60000e+01, 2.00000e+01, 1.90000e+01,\n",
       "        1.80000e+01, 2.70000e+01, 1.90000e+01, 2.60000e+01, 3.80000e+01,\n",
       "        1.40000e+01, 2.40000e+01, 1.90000e+01, 1.70000e+01, 1.00000e+01,\n",
       "        8.00000e+00, 8.00000e+00, 2.00000e+00, 1.00000e+00, 1.00000e+00,\n",
       "        2.00000e+00, 0.00000e+00, 0.00000e+00, 1.00000e+00, 0.00000e+00,\n",
       "        0.00000e+00, 0.00000e+00, 0.00000e+00, 0.00000e+00, 0.00000e+00,\n",
       "        0.00000e+00]),\n",
       " array([0.        , 0.00390625, 0.0078125 , 0.01171875, 0.015625  ,\n",
       "        0.01953125, 0.0234375 , 0.02734375, 0.03125   , 0.03515625,\n",
       "        0.0390625 , 0.04296875, 0.046875  , 0.05078125, 0.0546875 ,\n",
       "        0.05859375, 0.0625    , 0.06640625, 0.0703125 , 0.07421875,\n",
       "        0.078125  , 0.08203125, 0.0859375 , 0.08984375, 0.09375   ,\n",
       "        0.09765625, 0.1015625 , 0.10546875, 0.109375  , 0.11328125,\n",
       "        0.1171875 , 0.12109375, 0.125     , 0.12890625, 0.1328125 ,\n",
       "        0.13671875, 0.140625  , 0.14453125, 0.1484375 , 0.15234375,\n",
       "        0.15625   , 0.16015625, 0.1640625 , 0.16796875, 0.171875  ,\n",
       "        0.17578125, 0.1796875 , 0.18359375, 0.1875    , 0.19140625,\n",
       "        0.1953125 , 0.19921875, 0.203125  , 0.20703125, 0.2109375 ,\n",
       "        0.21484375, 0.21875   , 0.22265625, 0.2265625 , 0.23046875,\n",
       "        0.234375  , 0.23828125, 0.2421875 , 0.24609375, 0.25      ,\n",
       "        0.25390625, 0.2578125 , 0.26171875, 0.265625  , 0.26953125,\n",
       "        0.2734375 , 0.27734375, 0.28125   , 0.28515625, 0.2890625 ,\n",
       "        0.29296875, 0.296875  , 0.30078125, 0.3046875 , 0.30859375,\n",
       "        0.3125    , 0.31640625, 0.3203125 , 0.32421875, 0.328125  ,\n",
       "        0.33203125, 0.3359375 , 0.33984375, 0.34375   , 0.34765625,\n",
       "        0.3515625 , 0.35546875, 0.359375  , 0.36328125, 0.3671875 ,\n",
       "        0.37109375, 0.375     , 0.37890625, 0.3828125 , 0.38671875,\n",
       "        0.390625  , 0.39453125, 0.3984375 , 0.40234375, 0.40625   ,\n",
       "        0.41015625, 0.4140625 , 0.41796875, 0.421875  , 0.42578125,\n",
       "        0.4296875 , 0.43359375, 0.4375    , 0.44140625, 0.4453125 ,\n",
       "        0.44921875, 0.453125  , 0.45703125, 0.4609375 , 0.46484375,\n",
       "        0.46875   , 0.47265625, 0.4765625 , 0.48046875, 0.484375  ,\n",
       "        0.48828125, 0.4921875 , 0.49609375, 0.5       , 0.50390625,\n",
       "        0.5078125 , 0.51171875, 0.515625  , 0.51953125, 0.5234375 ,\n",
       "        0.52734375, 0.53125   , 0.53515625, 0.5390625 , 0.54296875,\n",
       "        0.546875  , 0.55078125, 0.5546875 , 0.55859375, 0.5625    ,\n",
       "        0.56640625, 0.5703125 , 0.57421875, 0.578125  , 0.58203125,\n",
       "        0.5859375 , 0.58984375, 0.59375   , 0.59765625, 0.6015625 ,\n",
       "        0.60546875, 0.609375  , 0.61328125, 0.6171875 , 0.62109375,\n",
       "        0.625     , 0.62890625, 0.6328125 , 0.63671875, 0.640625  ,\n",
       "        0.64453125, 0.6484375 , 0.65234375, 0.65625   , 0.66015625,\n",
       "        0.6640625 , 0.66796875, 0.671875  , 0.67578125, 0.6796875 ,\n",
       "        0.68359375, 0.6875    , 0.69140625, 0.6953125 , 0.69921875,\n",
       "        0.703125  , 0.70703125, 0.7109375 , 0.71484375, 0.71875   ,\n",
       "        0.72265625, 0.7265625 , 0.73046875, 0.734375  , 0.73828125,\n",
       "        0.7421875 , 0.74609375, 0.75      , 0.75390625, 0.7578125 ,\n",
       "        0.76171875, 0.765625  , 0.76953125, 0.7734375 , 0.77734375,\n",
       "        0.78125   , 0.78515625, 0.7890625 , 0.79296875, 0.796875  ,\n",
       "        0.80078125, 0.8046875 , 0.80859375, 0.8125    , 0.81640625,\n",
       "        0.8203125 , 0.82421875, 0.828125  , 0.83203125, 0.8359375 ,\n",
       "        0.83984375, 0.84375   , 0.84765625, 0.8515625 , 0.85546875,\n",
       "        0.859375  , 0.86328125, 0.8671875 , 0.87109375, 0.875     ,\n",
       "        0.87890625, 0.8828125 , 0.88671875, 0.890625  , 0.89453125,\n",
       "        0.8984375 , 0.90234375, 0.90625   , 0.91015625, 0.9140625 ,\n",
       "        0.91796875, 0.921875  , 0.92578125, 0.9296875 , 0.93359375,\n",
       "        0.9375    , 0.94140625, 0.9453125 , 0.94921875, 0.953125  ,\n",
       "        0.95703125, 0.9609375 , 0.96484375, 0.96875   , 0.97265625,\n",
       "        0.9765625 , 0.98046875, 0.984375  , 0.98828125, 0.9921875 ,\n",
       "        0.99609375, 1.        ], dtype=float32),\n",
       " <BarContainer object of 256 artists>)"
      ]
     },
     "execution_count": 63,
     "metadata": {},
     "output_type": "execute_result"
    },
    {
     "data": {
      "image/png": "[encoded data removed]",
      "text/plain": [
       "<Figure size 432x288 with 1 Axes>"
      ]
     },
     "metadata": {
      "needs_background": "light"
     },
     "output_type": "display_data"
    }
   ],
   "source": [
    "#  Enhancing the contrast\n",
    "plt.hist(red_data.ravel(),bins=256,range=(0.0,1.0))"
   ]
  },
  {
   "cell_type": "code",
   "execution_count": 64,
   "metadata": {},
   "outputs": [
    {
     "data": {
      "text/plain": [
       "<matplotlib.image.AxesImage at 0x2341aacef40>"
      ]
     },
     "execution_count": 64,
     "metadata": {},
     "output_type": "execute_result"
    },
    {
     "data": {
      "image/png": "[encoded data removed]",
      "text/plain": [
       "<Figure size 432x288 with 2 Axes>"
      ]
     },
     "metadata": {
      "needs_background": "light"
     },
     "output_type": "display_data"
    }
   ],
   "source": [
    "plt.subplot(1,2,1)\n",
    "plt.imshow(red_data,clim=(0.05,0.1),cmap=\"terrain\")\n",
    "plt.subplot(1,2,2)\n",
    "plt.imshow(red_data,cmap=\"terrain\")\n"
   ]
  },
  {
   "cell_type": "code",
   "execution_count": 65,
   "metadata": {},
   "outputs": [
    {
     "data": {
      "text/plain": [
       "<matplotlib.image.AxesImage at 0x2341a9ad8e0>"
      ]
     },
     "execution_count": 65,
     "metadata": {},
     "output_type": "execute_result"
    },
    {
     "data": {
      "image/png": "[encoded data removed]",
      "text/plain": [
       "<Figure size 720x720 with 3 Axes>"
      ]
     },
     "metadata": {
      "needs_background": "light"
     },
     "output_type": "display_data"
    }
   ],
   "source": [
    "plt.figure(figsize=(10,10))\n",
    "plt.subplot(1,3,1)\n",
    "plt.imshow(img[:,:,2],cmap='terrain')\n",
    "plt.subplot(1,3,2)\n",
    "plt.imshow(img[:,:,1],cmap='terrain')\n",
    "plt.subplot(1,3,3)\n",
    "plt.imshow(img[:,:,0],cmap='terrain')"
   ]
  },
  {
   "cell_type": "code",
   "execution_count": null,
   "metadata": {},
   "outputs": [],
   "source": []
  }
 ],
 "metadata": {
  "interpreter": {
   "hash": "15ea5ec1b02fdb251321602afffc5a1c1d038780cdcd5bb078eb1b3b9c787a9b"
  },
  "kernelspec": {
   "display_name": "Python 3.8.8 64-bit ('base': conda)",
   "language": "python",
   "name": "python3"
  },
  "language_info": {
   "codemirror_mode": {
    "name": "ipython",
    "version": 3
   },
   "file_extension": ".py",
   "mimetype": "text/x-python",
   "name": "python",
   "nbconvert_exporter": "python",
   "pygments_lexer": "ipython3",
   "version": "3.8.8"
  },
  "orig_nbformat": 4
 },
 "nbformat": 4,
 "nbformat_minor": 2
}
